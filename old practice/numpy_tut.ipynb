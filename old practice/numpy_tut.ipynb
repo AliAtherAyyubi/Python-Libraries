{
 "cells": [
  {
   "cell_type": "code",
   "execution_count": null,
   "metadata": {},
   "outputs": [],
   "source": [
    "import numpy as np\n",
    "\n",
    "a= np.array(['ali','zofa','qureshi'])\n",
    "b= np.array([2,3,4,5])\n",
    "# print(a)\n",
    "# print(b)\n",
    "print(np.zeros(3))\n",
    "print(np.ones(2))\n",
    "print(np.empty(2))\n",
    "\n",
    "seq= np.arange(2,22)\n",
    "seq2= np.arange(2,22,2)\n",
    "print(\"Range arrays\",seq)\n",
    "print(\"Range arrays\",seq2)"
   ]
  },
  {
   "cell_type": "code",
   "execution_count": null,
   "metadata": {},
   "outputs": [],
   "source": [
    "typearr=np.ones(4,dtype=np.float64)\n",
    "print(typearr)\n",
    "\n",
    "typearr=np.zeros(4,dtype=np.float64)\n",
    "print(typearr)"
   ]
  },
  {
   "cell_type": "code",
   "execution_count": null,
   "metadata": {},
   "outputs": [],
   "source": [
    "# sorting removien and adding in array\n",
    "array= np.array([1,44,33,4,53])\n",
    "sort= np.sort(array)\n",
    "print(sort)\n",
    "print(np.sort(np.array([44,33,3,22,34])))\n",
    "\n",
    "print(\"sorting alphabets: \",np.sort(['d','ca','e','a']))\n",
    "\n",
    "a1=np.array(['ab','ac','gcu','lahore'])\n",
    "a2=np.array([2,44,33,23,456,12])\n",
    "concat= np.concatenate((a1,a2))\n",
    "print(concat)\n",
    "\n",
    "print(\"elements in array\",a1.shape[0])"
   ]
  },
  {
   "cell_type": "code",
   "execution_count": null,
   "metadata": {},
   "outputs": [],
   "source": [
    "a1= np.array([[2,3,4,4,\"hamza\"],[2,33,4,3,\"ali\"]])\n",
    "print(a1[1][4])\n",
    "print(a1.shape)\n",
    "print(\"even no:\",np.arange(2,100+1,2))"
   ]
  },
  {
   "cell_type": "code",
   "execution_count": null,
   "metadata": {},
   "outputs": [],
   "source": [
    "a2=np.array([\"ali\",3,43,23,11,6])\n",
    "append=np.append(a2,'append')\n",
    "print('added',append)\n",
    "\n",
    "np.delete(a2,2)\n",
    "print('removed',a2)\n",
    "\n"
   ]
  },
  {
   "cell_type": "code",
   "execution_count": null,
   "metadata": {},
   "outputs": [],
   "source": [
    "#  finding dot product\n",
    "\n",
    "w=100\n",
    "x=20\n",
    "b=40\n",
    "dotp=np.dot(w,x)+b\n",
    "print(dotp)"
   ]
  },
  {
   "cell_type": "code",
   "execution_count": null,
   "metadata": {},
   "outputs": [],
   "source": [
    "#  Matrices in numpy\n",
    "\n",
    "matrix= np.matrix([[3,1],[5,6]])\n",
    "matrix2= np.matrix([[5,4],[52,4]])\n",
    "# print(matrix,matrix2)\n",
    "\n",
    "# print(np.sum(matrix))\n",
    "\n",
    "prod=np.dot(matrix,matrix2)\n",
    "print('Matrix Multi: ')\n",
    "print(prod)\n"
   ]
  },
  {
   "cell_type": "code",
   "execution_count": null,
   "metadata": {},
   "outputs": [],
   "source": []
  },
  {
   "cell_type": "code",
   "execution_count": null,
   "metadata": {},
   "outputs": [],
   "source": [
    "#  Matrices in numpy\n",
    "matrix= np.matrix([[3,1],[5,6]])\n",
    "matrix2= np.matrix([[2,4],[1,2]])"
   ]
  },
  {
   "cell_type": "code",
   "execution_count": null,
   "metadata": {},
   "outputs": [],
   "source": [
    "prod=np.dot(matrix,matrix2)\n",
    "print('Matrix Multi: ')\n",
    "print(prod)"
   ]
  },
  {
   "cell_type": "code",
   "execution_count": 19,
   "metadata": {},
   "outputs": [
    {
     "name": "stdout",
     "output_type": "stream",
     "text": [
      "[0.36590982 0.22980368 0.44045547 0.43198259]\n",
      "2-d array with 2 rows and 4 elements:\n",
      " [[0.31667352 0.46637255 0.3517615  0.77110373]\n",
      " [0.57754721 0.42540084 0.35652088 0.45126708]]\n",
      "Random number: 9\n",
      "Random numbers: [ 70 175 173 228 165]\n",
      "Random numbers: [ 4  2 15  4 40 21  4 22 22 42]\n",
      "randn(): [-0.55834669 -1.37808032 -0.61385818  0.52420717  1.08386441 -0.00199594\n",
      " -1.4306745   1.47680548 -0.56757966 -0.88236055]\n"
     ]
    }
   ],
   "source": [
    "# random arrays in numpy\n",
    "import math\n",
    "random= np.random.rand(4)\n",
    "print(random)\n",
    "\n",
    "random= np.random.rand(2,4)\n",
    "print(\"2-d array with 2 rows and 4 elements:\\n\",random)\n",
    "\n",
    "random= np.random.randint(20)\n",
    "print(\"Random number:\",random)\n",
    "\n",
    "random= np.random.randint(255,size=5)\n",
    "print(\"Random numbers:\",random)\n",
    "\n",
    "random= np.random.randint(0,50,size=10)\n",
    "print(\"Random numbers:\",random)\n",
    "\n",
    "random= np.random.randn(10)\n",
    "print(\"randn():\",random)"
   ]
  },
  {
   "cell_type": "code",
   "execution_count": null,
   "metadata": {},
   "outputs": [],
   "source": [
    "#  sum of two matrix\n",
    "\n",
    "sumMatrix= matrix+matrix2\n",
    "\n",
    "print(sumMatrix)"
   ]
  },
  {
   "cell_type": "code",
   "execution_count": null,
   "metadata": {},
   "outputs": [],
   "source": []
  }
 ],
 "metadata": {
  "kernelspec": {
   "display_name": "Python 3",
   "language": "python",
   "name": "python3"
  },
  "language_info": {
   "codemirror_mode": {
    "name": "ipython",
    "version": 3
   },
   "file_extension": ".py",
   "mimetype": "text/x-python",
   "name": "python",
   "nbconvert_exporter": "python",
   "pygments_lexer": "ipython3",
   "version": "3.11.2"
  },
  "orig_nbformat": 4
 },
 "nbformat": 4,
 "nbformat_minor": 2
}
