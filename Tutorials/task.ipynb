{
 "cells": [
  {
   "cell_type": "code",
   "execution_count": 1,
   "id": "7c2c9bb7",
   "metadata": {},
   "outputs": [
    {
     "name": "stdout",
     "output_type": "stream",
     "text": [
      "Ah you loose the number was  2\n"
     ]
    }
   ],
   "source": [
    "# Assignment 1: #\n",
    "from numpy import random\n",
    "\n",
    "num= input('Guess a Number bw 1 and 5')\n",
    "guess= int(num)\n",
    "\n",
    "# while guess!=0:\n",
    "score=0\n",
    "\n",
    "randNum= random.randint(1,4)\n",
    "\n",
    "if guess==randNum:\n",
    "    score+=1\n",
    "    print(\"Your Guessed right. Score: \", score)\n",
    "\n",
    "else:\n",
    "    score=0\n",
    "    print('Ah you loose the number was ',randNum)\n",
    "# guess= int(input('Guess a Number bw 1 and 5'))\n",
    "# print(\"Number \",randNum)\n"
   ]
  },
  {
   "cell_type": "code",
   "execution_count": null,
   "id": "5a677d70",
   "metadata": {},
   "outputs": [],
   "source": [
    "# Assignment 2\n",
    "import numpy as np\n",
    "from numpy import linalg as lg\n",
    "\n",
    "# Matrices\n",
    "A= np.array([[2,1,4],[1,3,4],[2,1,5]])\n",
    "B= np.array([[6,5,2],[1,5,4],[6,1,2]])\n",
    "\n",
    "# Inverse of matrix A\n",
    "\n",
    "invA= lg.inv(A)\n",
    "\n",
    "# Determinant of A\n",
    "\n",
    "detA= lg.det(A)\n",
    "\n",
    "#Transpose\n",
    "\n",
    "transA= lg.matrix_transpose(A)\n",
    "\n",
    "# product of Matrices\n",
    "\n",
    "prodAB= A*B\n",
    "\n",
    "# Linear Algebra\n",
    "\n",
    "eq= lg.solve(A,B)\n",
    "# print(eq)\n",
    "# print(prodAB)"
   ]
  },
  {
   "cell_type": "code",
   "execution_count": null,
   "id": "8d95181b",
   "metadata": {},
   "outputs": [],
   "source": [
    "# Assignment 3\n",
    "\n",
    "def checkPrime(n):\n",
    "    for i in range(int(n/2),2,-1):\n",
    "        if n % i==0:\n",
    "            return False\n",
    "\n",
    "    return True\n",
    "\n",
    "primeNums=[]\n",
    "\n",
    "for n in range(2,101):\n",
    "    if checkPrime(n):\n",
    "        primeNums.append(n)\n",
    "\n",
    "print(primeNums)\n",
    "\n",
    "arr= np.arange(2,100)\n",
    "print(arr)\n",
    "\n"
   ]
  }
 ],
 "metadata": {
  "kernelspec": {
   "display_name": "Practice_Lib",
   "language": "python",
   "name": "python3"
  },
  "language_info": {
   "codemirror_mode": {
    "name": "ipython",
    "version": 3
   },
   "file_extension": ".py",
   "mimetype": "text/x-python",
   "name": "python",
   "nbconvert_exporter": "python",
   "pygments_lexer": "ipython3",
   "version": "3.11.2"
  }
 },
 "nbformat": 4,
 "nbformat_minor": 5
}
