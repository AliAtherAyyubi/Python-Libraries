{
 "cells": [
  {
   "cell_type": "markdown",
   "id": "94211afb",
   "metadata": {},
   "source": [
    "# Real World Application Problems using Pandas and Matplotlib\n"
   ]
  },
  {
   "cell_type": "code",
   "execution_count": 1,
   "id": "68b23e02",
   "metadata": {},
   "outputs": [],
   "source": [
    "import numpy as np\n",
    "import pandas as pd\n",
    "import matplotlib.pyplot as plt\n"
   ]
  },
  {
   "cell_type": "markdown",
   "id": "6e0e10a6",
   "metadata": {},
   "source": [
    "#### 1. World Population Data Analysis"
   ]
  },
  {
   "cell_type": "code",
   "execution_count": null,
   "id": "9d0b14b3",
   "metadata": {},
   "outputs": [],
   "source": [
    "population= pd.read_csv('../CSV/world_population.csv',index_col=0 )\n",
    "\n",
    "# Finding top 10 most population countries\n",
    "most_populated=population.sort_values(by=['Rank'],ascending=True)\n",
    "\n",
    "print('Top 10 most populated countries: ')\n",
    "most_populated['Country/Territory'].head(10)"
   ]
  },
  {
   "cell_type": "code",
   "execution_count": null,
   "id": "315e0be6",
   "metadata": {},
   "outputs": [],
   "source": [
    "avg_population= population['2022 Population'].mean()\n",
    "\n",
    "print('Average Population of the world',avg_population.round(2))"
   ]
  },
  {
   "cell_type": "code",
   "execution_count": null,
   "id": "6a04206f",
   "metadata": {},
   "outputs": [],
   "source": [
    "# Plot country and Population\n",
    "\n",
    "country= most_populated['CCA3'].head(10)\n",
    "population2022= most_populated['2022 Population'].head(10)\n",
    "\n",
    "plt.title('Top 10 most populated countries')\n",
    "plt.xlabel('Country')\n",
    "plt.ylabel('Population')\n",
    "\n",
    "color_list = ['red', 'blue', 'green', 'orange', 'purple', 'pink', 'brown', 'gray', 'cyan', 'magenta']\n",
    "edge_color=['yellow','black','white','blue','red','green','orange','purple','pink','brown']\n",
    "plt.bar(country,population2022,color=color_list,width=0.4, edgecolor=edge_color, linewidth=1.2)\n",
    "plt.legend(['Population','Country'])\n",
    "\n",
    "plt.show()"
   ]
  },
  {
   "cell_type": "code",
   "execution_count": null,
   "id": "02471664",
   "metadata": {},
   "outputs": [],
   "source": [
    "# Find countries with more than 2% of the world’s population.\n",
    "\n",
    "# population[population['2022 Population']> (0.02*avg_population)]\n",
    "\n",
    "filter= population[population['World Population Percentage']>0.02]\n",
    "# population['World Population Percentage']\n",
    "# print(countries)\n",
    "print(filter[['CCA3','World Population Percentage']])"
   ]
  },
  {
   "cell_type": "markdown",
   "id": "5a595f1c",
   "metadata": {},
   "source": [
    "#### 2. COVID-19 Cases Tracker"
   ]
  },
  {
   "cell_type": "code",
   "execution_count": null,
   "id": "3975e118",
   "metadata": {},
   "outputs": [],
   "source": [
    "# Show total cases/deaths per country.\n",
    "\n",
    "covid = pd.read_csv('../CSV/covid.csv')\n",
    "\n",
    "total= covid.groupby('Country/Region')[['Confirmed','Deaths']].sum()\n",
    "\n",
    "print(total)"
   ]
  },
  {
   "cell_type": "code",
   "execution_count": null,
   "id": "e0a7c630",
   "metadata": {},
   "outputs": [],
   "source": [
    "# Find the country with the highest death rate.\n",
    "indexOfDeath= covid['Deaths / 100 Cases'].idxmax()\n",
    "maxCountry= covid['Country/Region'][indexOfDeath]\n",
    "print('Country with the highest death rate: ',maxCountry)\n",
    "\n",
    "# deathRate= (covid['Deaths']/covid['Confirmed'])*100\n",
    "\n",
    "# print(deathRate)"
   ]
  },
  {
   "cell_type": "code",
   "execution_count": null,
   "id": "a9145be0",
   "metadata": {},
   "outputs": [],
   "source": [
    "# - Plot cases covid deaths for countries.\n",
    "countries= covid['Country/Region'][20:30]\n",
    "Deaths= covid['Deaths'][20:30]\n",
    "plt.figure(figsize=(15,6))\n",
    "\n",
    "plt.title('Covid Deaths per Country')\n",
    "plt.xlabel('Deaths')\n",
    "plt.ylabel('Countries')\n",
    "# plt.barh(countries,Deaths)\n",
    "\n",
    "plt.plot(countries,Deaths)\n",
    "\n",
    "plt.show()"
   ]
  },
  {
   "cell_type": "markdown",
   "id": "f391d91b",
   "metadata": {},
   "source": [
    "### 3. Sales Data Analysis"
   ]
  },
  {
   "cell_type": "code",
   "execution_count": null,
   "id": "40b324f7",
   "metadata": {},
   "outputs": [],
   "source": [
    "salesData= pd.read_csv('../CSV/Sales Data.csv')\n",
    "\n",
    "# Total revenue per product.\n",
    "print('Total revenue per product: ')\n",
    "# revenue= salesData['Quantity Ordered']* salesData['Price Each']\n",
    "salesData[['Product','Sales']].head(200)\n",
    "# print(salesData)"
   ]
  },
  {
   "cell_type": "code",
   "execution_count": null,
   "id": "e3e31538",
   "metadata": {},
   "outputs": [],
   "source": [
    "# Most sold product.\n",
    "\n",
    "row= salesData['Quantity Ordered'].idxmax()\n",
    "\n",
    "mostSold= salesData['Product'][row]\n",
    "\n",
    "print('Most sold product: ',mostSold)"
   ]
  },
  {
   "cell_type": "code",
   "execution_count": null,
   "id": "754c4aa6",
   "metadata": {},
   "outputs": [],
   "source": [
    "# - Total sales by month.\n",
    "\n",
    "salesData[['Month','Sales']].head(200)"
   ]
  },
  {
   "cell_type": "code",
   "execution_count": null,
   "id": "6f88ba42",
   "metadata": {},
   "outputs": [],
   "source": [
    "# - Plot monthly sales as a bar chart.\n",
    "\n",
    "product= salesData['Product'][0:10]\n",
    "sales= salesData['Sales'][0:10]\n",
    "\n",
    "plt.figure(figsize=(15,6))\n",
    "plt.title('Monthly Sales')\n",
    "plt.xlabel('Product')\n",
    "plt.ylabel('Sales')\n",
    "plt.barh(product,sales,color='blue')\n",
    "plt.legend(['Sales','Product'])\n",
    "plt.show()"
   ]
  }
 ],
 "metadata": {
  "kernelspec": {
   "display_name": ".env",
   "language": "python",
   "name": "python3"
  },
  "language_info": {
   "codemirror_mode": {
    "name": "ipython",
    "version": 3
   },
   "file_extension": ".py",
   "mimetype": "text/x-python",
   "name": "python",
   "nbconvert_exporter": "python",
   "pygments_lexer": "ipython3",
   "version": "3.11.2"
  }
 },
 "nbformat": 4,
 "nbformat_minor": 5
}
