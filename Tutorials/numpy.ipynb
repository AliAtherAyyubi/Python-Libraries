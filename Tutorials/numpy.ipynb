{
 "cells": [
  {
   "cell_type": "code",
   "execution_count": 1,
   "id": "024e19f8",
   "metadata": {},
   "outputs": [
    {
     "name": "stdout",
     "output_type": "stream",
     "text": [
      "[ 2 23  4 34]\n"
     ]
    }
   ],
   "source": [
    "import numpy as np\n",
    "\n",
    "a = np.array([2, 23, 4, 34])\n",
    "print(a)"
   ]
  },
  {
   "cell_type": "code",
   "execution_count": null,
   "id": "2014511f",
   "metadata": {},
   "outputs": [],
   "source": [
    "b = np.array([[2, 3], [23, 45], [2, 11], [7, 8]])\n",
    "print(b)"
   ]
  },
  {
   "cell_type": "code",
   "execution_count": null,
   "id": "00548fcf",
   "metadata": {},
   "outputs": [],
   "source": [
    "print(\"dimension:\", b.ndim)\n",
    "print(b.shape)\n",
    "print(b.size)\n",
    "\n",
    "x = np.array([1, 2])\n",
    "print(x)"
   ]
  },
  {
   "cell_type": "code",
   "execution_count": null,
   "id": "300916f2",
   "metadata": {},
   "outputs": [],
   "source": [
    "threeDim = np.array([[[3, 4, 5]], [[2, 3, 1]], [[23, 1, 4]], [[1,35,5]], [[1,35,5]]])\n",
    "# threeDim1 = np.array([[[3, 4]], [[2, 3]], [[23, 1]], [[1,35]], [[1,5]]])\n",
    "\n",
    "print(threeDim)\n",
    "print('Shape',threeDim.shape)\n",
    "print('Size',threeDim.size)\n",
    "print(\"Dimension\", threeDim.ndim)"
   ]
  },
  {
   "cell_type": "code",
   "execution_count": null,
   "id": "272e3523",
   "metadata": {},
   "outputs": [],
   "source": [
    "arr_4d = np.array([\n",
    "    [ [ [1, 2], [3, 4] ], [ [5, 6], [7, 8] ] ],\n",
    "    [ [ [9, 10], [11, 12] ], [ [13, 14], [15, 16] ] ]])\n",
    "\n",
    "print(arr_4d)\n",
    "print(\"Dimension:\",arr_4d.ndim)"
   ]
  },
  {
   "cell_type": "code",
   "execution_count": null,
   "id": "67da341f",
   "metadata": {},
   "outputs": [],
   "source": [
    "arr= np.median([2,33,3,1])\n",
    "# print('median: ',arr)\n",
    "\n"
   ]
  },
  {
   "cell_type": "code",
   "execution_count": null,
   "id": "90585a59",
   "metadata": {},
   "outputs": [],
   "source": [
    "matrix= np.array([[5,2],[10,9]])\n",
    "\n",
    "det= np.linalg.det(matrix)\n",
    "ans= round(det)\n",
    "print(ans)"
   ]
  },
  {
   "cell_type": "code",
   "execution_count": null,
   "id": "12f9747e",
   "metadata": {},
   "outputs": [],
   "source": [
    "arr = np.array([1,2,3,4,5,6,7,8,9,10,11,12])\n",
    "\n",
    "arr=list(arr)\n",
    "# print(arr)\n",
    "even= [int(x) for x in arr if x%2==0]\n",
    "\n",
    "print(even)"
   ]
  },
  {
   "cell_type": "code",
   "execution_count": null,
   "id": "48c949ca",
   "metadata": {},
   "outputs": [],
   "source": [
    "arr1= np.array([5,6,2,9,10,12,15])\n",
    "\n",
    "sumArr= np.sum(arr1)\n",
    "\n",
    "avg= np.average(arr1)\n",
    "\n",
    "print(f'sum:{sumArr}, Average: {round(avg,2)}')"
   ]
  },
  {
   "cell_type": "code",
   "execution_count": null,
   "id": "6c3e18e5",
   "metadata": {},
   "outputs": [],
   "source": [
    "# Random Numbers\n",
    "import random as rd\n",
    "\n",
    "b= rd.randrange(1,5)\n",
    "a= np.random.randint(1,23,size=10)\n",
    "# a= np.random.rand(14)\n",
    "# a= np.random.randn(32)\n",
    "\n",
    "print(b)"
   ]
  },
  {
   "cell_type": "code",
   "execution_count": null,
   "id": "24db4448",
   "metadata": {},
   "outputs": [],
   "source": [
    "# Solving Math Problems X= A-1B\n",
    "\n",
    "A= np.array([[2,4],[2,5]])\n",
    "\n",
    "B= np.array([3,5])\n",
    "\n",
    "X= np.linalg.solve(A,B)\n",
    "\n",
    "print(X)\n"
   ]
  },
  {
   "cell_type": "code",
   "execution_count": null,
   "id": "62904457",
   "metadata": {},
   "outputs": [],
   "source": [
    "arr= np.array([100,34.2,2.2,23,2,1],dtype='float' )\n",
    "\n",
    "print(arr.min())\n",
    "print(arr.max())\n",
    "print(arr.mean())\n",
    "# arr.max()\n",
    "# arr.min()\n"
   ]
  },
  {
   "cell_type": "code",
   "execution_count": null,
   "id": "4b5fc929",
   "metadata": {},
   "outputs": [],
   "source": [
    "A= np.zeros((3,2))\n",
    "#Reshap of matrix\n",
    "A= np.array([[2,4,5,6],[3,2,4,5]])\n",
    "B=A.reshape(4,2)\n",
    "print(B)"
   ]
  },
  {
   "cell_type": "code",
   "execution_count": null,
   "id": "d43975e0",
   "metadata": {},
   "outputs": [],
   "source": [
    "# to get values between numbers usually used for prediction\n",
    "arr= np.linspace(1,4,5)\n",
    "\n",
    "print(arr)"
   ]
  },
  {
   "cell_type": "code",
   "execution_count": 19,
   "id": "8a46d87f",
   "metadata": {},
   "outputs": [
    {
     "name": "stdout",
     "output_type": "stream",
     "text": [
      "[2, 3, 5, 1]\n"
     ]
    }
   ],
   "source": [
    "arr1= np.array([1,5,3,2])\n",
    "arr2= np.array([2,3,4,5])\n",
    "\n",
    "# print(arr1*arr2)\n",
    "\n",
    "# print(np.sort(arr1))\n",
    "\n",
    "reverList= [int(x) for x in reversed(arr1)]\n",
    "print(reverList)"
   ]
  }
 ],
 "metadata": {
  "kernelspec": {
   "display_name": "Practice_Lib",
   "language": "python",
   "name": "python3"
  },
  "language_info": {
   "codemirror_mode": {
    "name": "ipython",
    "version": 3
   },
   "file_extension": ".py",
   "mimetype": "text/x-python",
   "name": "python",
   "nbconvert_exporter": "python",
   "pygments_lexer": "ipython3",
   "version": "3.11.2"
  }
 },
 "nbformat": 4,
 "nbformat_minor": 5
}
