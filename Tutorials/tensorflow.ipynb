{
 "cells": [
  {
   "cell_type": "markdown",
   "id": "8c0effaf",
   "metadata": {},
   "source": [
    "## TensorFlow"
   ]
  },
  {
   "cell_type": "code",
   "execution_count": null,
   "id": "0d35573b",
   "metadata": {},
   "outputs": [],
   "source": [
    "import tensorflow as tf\n",
    "import pandas as pd\n",
    "import numpy as np\n",
    "import matplotlib.pyplot as plt\n",
    "from sklearn.preprocessing import StandardScaler"
   ]
  },
  {
   "cell_type": "markdown",
   "id": "57d12853",
   "metadata": {},
   "source": [
    "### House Price Prediction usin NNs"
   ]
  },
  {
   "cell_type": "code",
   "execution_count": null,
   "id": "95067eec",
   "metadata": {},
   "outputs": [],
   "source": [
    "\n",
    "# Load data\n",
    "house = pd.read_csv('../CSV/housing.csv')\n",
    "X = house[['bedrooms', 'bathrooms']]\n",
    "Y = house[['price']]  # Make sure Y is 2D for scaler\n",
    "\n",
    "# Normalize input and output\n",
    "x_scaler = StandardScaler()\n",
    "y_scaler = StandardScaler()\n",
    "\n",
    "X_scaled = x_scaler.fit_transform(X)\n",
    "Y_scaled = y_scaler.fit_transform(Y)\n",
    "\n",
    "# Build the model\n",
    "model = tf.keras.Sequential([\n",
    "    tf.keras.layers.Dense(10, activation='relu', input_shape=(2,)),\n",
    "    tf.keras.layers.Dense(1)\n",
    "])\n",
    "\n",
    "model.compile(optimizer='adam', loss='mse')\n",
    "\n",
    "# Train\n",
    "model.fit(X_scaled, Y_scaled, epochs=5, verbose=0)\n",
    "\n",
    "# Predict\n",
    "input_data = x_scaler.transform([[3, 2]])\n",
    "pred_scaled = model.predict(input_data)\n",
    "\n",
    "# Convert back to original price scale\n",
    "pred_price = y_scaler.inverse_transform(pred_scaled)\n",
    "\n",
    "print(f\"Predicted Price: {pred_price[0][0]:.2f}\")\n"
   ]
  },
  {
   "cell_type": "code",
   "execution_count": null,
   "id": "991877ba",
   "metadata": {},
   "outputs": [],
   "source": [
    "x= np.array([[2,3,4,5,6]]).reshape(-1,1)\n",
    "y=np.array([1,2,3,4,5])\n",
    "\n",
    "model = tf.keras.Sequential([\n",
    "    tf.keras.layers.Dense(10, activation='relu'), # input layer\n",
    "    tf.keras.layers.Dense(1) # output node\n",
    "])\n",
    "\n",
    "model.compile(loss='mse', metrics=['accuracy'])\n",
    "\n",
    "model.fit(x,y, epochs= 5)\n",
    "\n",
    "input= np.array([3,5,6,5,4]).reshape(-1,1)\n",
    "predict= model.predict(input)\n",
    "print(predict)\n",
    "\n"
   ]
  },
  {
   "cell_type": "markdown",
   "id": "71b3e9c7",
   "metadata": {},
   "source": [
    "### Handwritten Digits Recognition"
   ]
  },
  {
   "cell_type": "code",
   "execution_count": null,
   "id": "ddeaa848",
   "metadata": {},
   "outputs": [],
   "source": [
    "(x_train,y_train), (x_test,y_test) = tf.keras.datasets.mnist.load_data()\n",
    "x_train,x_test= x_train/255.0, x_test/255.0"
   ]
  },
  {
   "cell_type": "code",
   "execution_count": 17,
   "id": "46400f5c",
   "metadata": {},
   "outputs": [
    {
     "name": "stderr",
     "output_type": "stream",
     "text": [
      "d:\\Tech\\Artificial Intelligence\\Python Libraries\\.env\\Lib\\site-packages\\keras\\src\\layers\\reshaping\\flatten.py:37: UserWarning: Do not pass an `input_shape`/`input_dim` argument to a layer. When using Sequential models, prefer using an `Input(shape)` object as the first layer in the model instead.\n",
      "  super().__init__(**kwargs)\n"
     ]
    },
    {
     "name": "stdout",
     "output_type": "stream",
     "text": [
      "Epoch 1/10\n",
      "\u001b[1m1688/1688\u001b[0m \u001b[32m━━━━━━━━━━━━━━━━━━━━\u001b[0m\u001b[37m\u001b[0m \u001b[1m6s\u001b[0m 3ms/step - accuracy: 0.8694 - loss: 0.4610 - val_accuracy: 0.9622 - val_loss: 0.1335\n",
      "Epoch 2/10\n",
      "\u001b[1m1688/1688\u001b[0m \u001b[32m━━━━━━━━━━━━━━━━━━━━\u001b[0m\u001b[37m\u001b[0m \u001b[1m5s\u001b[0m 3ms/step - accuracy: 0.9623 - loss: 0.1284 - val_accuracy: 0.9690 - val_loss: 0.0984\n",
      "Epoch 3/10\n",
      "\u001b[1m1688/1688\u001b[0m \u001b[32m━━━━━━━━━━━━━━━━━━━━\u001b[0m\u001b[37m\u001b[0m \u001b[1m5s\u001b[0m 3ms/step - accuracy: 0.9757 - loss: 0.0826 - val_accuracy: 0.9735 - val_loss: 0.0924\n",
      "Epoch 4/10\n",
      "\u001b[1m1688/1688\u001b[0m \u001b[32m━━━━━━━━━━━━━━━━━━━━\u001b[0m\u001b[37m\u001b[0m \u001b[1m4s\u001b[0m 3ms/step - accuracy: 0.9829 - loss: 0.0597 - val_accuracy: 0.9757 - val_loss: 0.0778\n",
      "Epoch 5/10\n",
      "\u001b[1m1688/1688\u001b[0m \u001b[32m━━━━━━━━━━━━━━━━━━━━\u001b[0m\u001b[37m\u001b[0m \u001b[1m5s\u001b[0m 3ms/step - accuracy: 0.9864 - loss: 0.0454 - val_accuracy: 0.9792 - val_loss: 0.0730\n",
      "Epoch 6/10\n",
      "\u001b[1m1688/1688\u001b[0m \u001b[32m━━━━━━━━━━━━━━━━━━━━\u001b[0m\u001b[37m\u001b[0m \u001b[1m5s\u001b[0m 3ms/step - accuracy: 0.9901 - loss: 0.0349 - val_accuracy: 0.9813 - val_loss: 0.0707\n",
      "Epoch 7/10\n",
      "\u001b[1m1688/1688\u001b[0m \u001b[32m━━━━━━━━━━━━━━━━━━━━\u001b[0m\u001b[37m\u001b[0m \u001b[1m5s\u001b[0m 3ms/step - accuracy: 0.9923 - loss: 0.0282 - val_accuracy: 0.9765 - val_loss: 0.0834\n",
      "Epoch 8/10\n",
      "\u001b[1m1688/1688\u001b[0m \u001b[32m━━━━━━━━━━━━━━━━━━━━\u001b[0m\u001b[37m\u001b[0m \u001b[1m9s\u001b[0m 5ms/step - accuracy: 0.9933 - loss: 0.0214 - val_accuracy: 0.9788 - val_loss: 0.0802\n",
      "Epoch 9/10\n",
      "\u001b[1m1688/1688\u001b[0m \u001b[32m━━━━━━━━━━━━━━━━━━━━\u001b[0m\u001b[37m\u001b[0m \u001b[1m11s\u001b[0m 5ms/step - accuracy: 0.9948 - loss: 0.0188 - val_accuracy: 0.9825 - val_loss: 0.0710\n",
      "Epoch 10/10\n",
      "\u001b[1m1688/1688\u001b[0m \u001b[32m━━━━━━━━━━━━━━━━━━━━\u001b[0m\u001b[37m\u001b[0m \u001b[1m6s\u001b[0m 4ms/step - accuracy: 0.9968 - loss: 0.0130 - val_accuracy: 0.9792 - val_loss: 0.0791\n"
     ]
    },
    {
     "data": {
      "text/plain": [
       "<keras.src.callbacks.history.History at 0x22a15c93350>"
      ]
     },
     "execution_count": 17,
     "metadata": {},
     "output_type": "execute_result"
    }
   ],
   "source": [
    "\n",
    "model= tf.keras.Sequential([\n",
    "    tf.keras.layers.Flatten(input_shape=(28,28)),\n",
    "    tf.keras.layers.Dense(128,activation='relu'),\n",
    "    tf.keras.layers.Dense(10,activation='softmax')\n",
    "])\n",
    "\n",
    "model.compile(optimizer='adam',loss='sparse_categorical_crossentropy',metrics=['accuracy'])\n",
    "\n",
    "model.fit(x_train,y_train, epochs=10, validation_split=0.1)"
   ]
  },
  {
   "cell_type": "code",
   "execution_count": null,
   "id": "959b0ad0",
   "metadata": {},
   "outputs": [],
   "source": [
    "model.save('../Models/digit_model.keras')"
   ]
  },
  {
   "cell_type": "code",
   "execution_count": null,
   "id": "269f8b58",
   "metadata": {},
   "outputs": [],
   "source": [
    "# Loading the Model \n",
    "\n",
    "model= tf.keras.models.load_model('../Models/digit_model.keras')"
   ]
  },
  {
   "cell_type": "code",
   "execution_count": 18,
   "id": "bba6821b",
   "metadata": {},
   "outputs": [
    {
     "name": "stdout",
     "output_type": "stream",
     "text": [
      "\u001b[1m1/1\u001b[0m \u001b[32m━━━━━━━━━━━━━━━━━━━━\u001b[0m\u001b[37m\u001b[0m \u001b[1m0s\u001b[0m 66ms/step\n"
     ]
    },
    {
     "data": {
      "image/png": "[encoded data removed]",
      "text/plain": [
       "<Figure size 640x480 with 1 Axes>"
      ]
     },
     "metadata": {},
     "output_type": "display_data"
    }
   ],
   "source": [
    "# Predicted test data\n",
    "predict= model.predict(x_test[16].reshape(1,28,28))\n",
    "\n",
    "label= np.argmax(predict)\n",
    "\n",
    "plt.imshow(x_test[16])\n",
    "\n",
    "plt.title(f'Predicted Digit: {label}')\n",
    "plt.show()"
   ]
  },
  {
   "cell_type": "code",
   "execution_count": 23,
   "id": "82714b42",
   "metadata": {},
   "outputs": [
    {
     "name": "stdout",
     "output_type": "stream",
     "text": [
      "\u001b[1m1/1\u001b[0m \u001b[32m━━━━━━━━━━━━━━━━━━━━\u001b[0m\u001b[37m\u001b[0m \u001b[1m0s\u001b[0m 50ms/step\n",
      "Predicted Digit: 5\n"
     ]
    },
    {
     "data": {
      "image/png": "[encoded data removed]",
      "text/plain": [
       "<Figure size 640x480 with 1 Axes>"
      ]
     },
     "metadata": {},
     "output_type": "display_data"
    }
   ],
   "source": [
    "# Predicting own image \n",
    "\n",
    "from PIL import Image,ImageOps\n",
    "\n",
    "img = Image.open('../Images/n5.jpeg').convert(\"L\")  # Convert to grayscale\n",
    "\n",
    "# Resize to 28x28\n",
    "img = img.resize((28, 28))\n",
    "img = ImageOps.invert(img)\n",
    "img_array = np.array(img) / 255.0\n",
    "\n",
    "# Reshape for model\n",
    "img_array = img_array.reshape(1, 28, 28)\n",
    "\n",
    "# print(img_array)\n",
    "predictDigit= model.predict(img_array)\n",
    "label= np.argmax(predictDigit)\n",
    "print(f'Predicted Digit: {label}')\n",
    "\n",
    "\n",
    "plt.imshow(img_array.reshape(28,28), cmap='gray')\n",
    "plt.title(f\"Predicted Digit: {label}\")\n",
    "plt.axis('off')\n",
    "plt.show()"
   ]
  },
  {
   "cell_type": "code",
   "execution_count": null,
   "id": "b876369f",
   "metadata": {},
   "outputs": [],
   "source": [
    "# Showing image from dataset of MNIST\n",
    "\n",
    "img_arr= x_test[2]\n",
    "\n",
    "img= Image.fromarray(img_arr)\n",
    "\n",
    "img= img.resize((2000,2000),Image.NEAREST)\n",
    "\n",
    "img.show()"
   ]
  },
  {
   "cell_type": "code",
   "execution_count": null,
   "id": "520d01b6",
   "metadata": {},
   "outputs": [],
   "source": [
    "arr= np.array([[1,3,44,2],[3,4,2,1]])\n",
    "\n",
    "max= np.argmax(arr, axis=1)\n",
    "\n",
    "print(max)"
   ]
  },
  {
   "cell_type": "code",
   "execution_count": null,
   "id": "d50ea5b8",
   "metadata": {},
   "outputs": [],
   "source": []
  }
 ],
 "metadata": {
  "kernelspec": {
   "display_name": ".env",
   "language": "python",
   "name": "python3"
  },
  "language_info": {
   "codemirror_mode": {
    "name": "ipython",
    "version": 3
   },
   "file_extension": ".py",
   "mimetype": "text/x-python",
   "name": "python",
   "nbconvert_exporter": "python",
   "pygments_lexer": "ipython3",
   "version": "3.11.2"
  }
 },
 "nbformat": 4,
 "nbformat_minor": 5
}
