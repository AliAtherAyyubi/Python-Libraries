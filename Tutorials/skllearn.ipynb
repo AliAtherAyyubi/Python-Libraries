{
 "cells": [
  {
   "cell_type": "markdown",
   "id": "0c78fac8",
   "metadata": {},
   "source": [
    "## Machine Learning with Scikit Learn\n"
   ]
  },
  {
   "cell_type": "code",
   "execution_count": 2,
   "id": "3316d428",
   "metadata": {},
   "outputs": [],
   "source": [
    "import pandas as pd\n",
    "from sklearn.model_selection import train_test_split\n",
    "from sklearn.linear_model import LinearRegression"
   ]
  },
  {
   "cell_type": "code",
   "execution_count": 10,
   "id": "88f9b76e",
   "metadata": {},
   "outputs": [
    {
     "name": "stdout",
     "output_type": "stream",
     "text": [
      "Total Price: 582371.12\n"
     ]
    },
    {
     "name": "stderr",
     "output_type": "stream",
     "text": [
      "d:\\Tech\\Artificial Intelligence\\Python Libraries\\.env\\Lib\\site-packages\\sklearn\\utils\\validation.py:2739: UserWarning: X does not have valid feature names, but LinearRegression was fitted with feature names\n",
      "  warnings.warn(\n"
     ]
    }
   ],
   "source": [
    "data= pd.read_csv('../CSV/housing.csv')\n",
    "\n",
    "features= ['bedrooms','bathrooms']\n",
    "target= 'price'\n",
    "\n",
    "X= data[features].astype(int)\n",
    "Y= data[target]\n",
    "\n",
    "X_train, X_test, Y_train, Y_test= train_test_split(X,Y)\n",
    "\n",
    "model= LinearRegression()\n",
    "model.fit(X_train,Y_train)\n",
    "\n",
    "input= [[3, 2]]\n",
    "predictions= model.predict(input)\n",
    "# predictions= model.predict(X_test)\n",
    "\n",
    "print(f'Total Price: { predictions[0]:.2f}')\n"
   ]
  }
 ],
 "metadata": {
  "kernelspec": {
   "display_name": ".env",
   "language": "python",
   "name": "python3"
  },
  "language_info": {
   "codemirror_mode": {
    "name": "ipython",
    "version": 3
   },
   "file_extension": ".py",
   "mimetype": "text/x-python",
   "name": "python",
   "nbconvert_exporter": "python",
   "pygments_lexer": "ipython3",
   "version": "3.11.2"
  }
 },
 "nbformat": 4,
 "nbformat_minor": 5
}
