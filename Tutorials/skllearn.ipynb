{
 "cells": [
  {
   "cell_type": "markdown",
   "id": "0c78fac8",
   "metadata": {},
   "source": [
    "# Machine Learning with Scikit Learn\n"
   ]
  },
  {
   "cell_type": "code",
   "execution_count": 6,
   "id": "3316d428",
   "metadata": {},
   "outputs": [],
   "source": [
    "import pandas as pd\n",
    "import numpy as np\n",
    "import matplotlib.pyplot as plt\n",
    "from sklearn.model_selection import train_test_split\n",
    "from sklearn.linear_model import LinearRegression\n",
    "from sklearn.linear_model import LogisticRegression\n",
    "from sklearn import tree\n"
   ]
  },
  {
   "cell_type": "markdown",
   "id": "ae0662ee",
   "metadata": {},
   "source": [
    "## Linear Regression in Machine Learning"
   ]
  },
  {
   "cell_type": "markdown",
   "id": "571c7dce",
   "metadata": {},
   "source": [
    "#### House Price Prediction Model"
   ]
  },
  {
   "cell_type": "code",
   "execution_count": null,
   "id": "88f9b76e",
   "metadata": {},
   "outputs": [],
   "source": [
    "data= pd.read_csv('../CSV/housing.csv')\n",
    "\n",
    "features= ['bedrooms','bathrooms','sqft_living']\n",
    "target= 'price'\n",
    "\n",
    "X= data[features]\n",
    "Y= data[target].astype(int)\n",
    "\n",
    "X_train, X_test, Y_train, Y_test= train_test_split(X,Y)\n",
    "\n",
    "model= LinearRegression()\n",
    "model.fit(X_train,Y_train)\n",
    "\n",
    "input= [[5, 3,3650]]\n",
    "predictions= model.predict(input)\n",
    "# predictions= model.predict(X_test)\n",
    "\n",
    "print(f'Total Price: { predictions[0]:.2f}')\n"
   ]
  },
  {
   "cell_type": "markdown",
   "id": "b8c24a29",
   "metadata": {},
   "source": [
    "#### Model to predict Population of a country"
   ]
  },
  {
   "cell_type": "code",
   "execution_count": null,
   "id": "7a07397d",
   "metadata": {},
   "outputs": [],
   "source": [
    "# wp= pd.read_csv('../CSV/world_population.csv')\n",
    "data = {\n",
    "    'Year': [2022, 2020,2015, 2010, 2000, 1990, 1980,1970],\n",
    "    'Population': [1417173173,1396387127,1322866505,1240613620,1059633675,870452165,696828385,557501301]  # Example: India\n",
    "}\n",
    "\n",
    "data = pd.DataFrame(data)\n",
    "\n",
    "X= data[['Year']]\n",
    "Y= data['Population']\n",
    "\n",
    "X_train, X_test, Y_train, Y_test= train_test_split(X,Y)\n",
    "\n",
    "model= LinearRegression()\n",
    "model.fit(X_train,Y_train)\n",
    "\n",
    "input= [[2025]]\n",
    "predictions= model.predict(input)\n",
    "\n",
    "# print(predictions)\n",
    "print(f'Population: { predictions[0]:.0f}')\n",
    "\n"
   ]
  },
  {
   "cell_type": "markdown",
   "id": "8ce0df2d",
   "metadata": {},
   "source": [
    "##### Datasets in sklearn"
   ]
  },
  {
   "cell_type": "code",
   "execution_count": null,
   "id": "bb1c7a7c",
   "metadata": {},
   "outputs": [],
   "source": [
    "from sklearn.datasets import load_digits\n",
    "\n",
    "X,Y= load_digits(return_X_y=True)\n",
    "\n",
    "print(X,Y)"
   ]
  },
  {
   "cell_type": "code",
   "execution_count": null,
   "id": "c1ff247c",
   "metadata": {},
   "outputs": [],
   "source": [
    "# 1. Linear Regression(Single Regression, Multiple Regression)\n",
    "# 2. Logistic Regression (Binary Classification, Multi-class Classification, ) "
   ]
  },
  {
   "cell_type": "markdown",
   "id": "89f1bcd0",
   "metadata": {},
   "source": [
    "#### Model to predict price of used Car"
   ]
  },
  {
   "cell_type": "code",
   "execution_count": null,
   "id": "28fdae0a",
   "metadata": {},
   "outputs": [],
   "source": [
    "carsData= pd.read_csv('../datasets/car_dataset.csv')\n",
    "\n",
    "X = carsData[['car_name','brand','car_model','model_year','transmission','fuel_type','kilometers_run']]\n",
    "Y= carsData['price']\n",
    "\n",
    "x_train,x_test, y_train,y_test= train_test_split(X,Y)\n",
    "\n",
    "model= LinearRegression()\n",
    "\n",
    "model.fit(x_train,y_train)\n",
    "\n",
    "input= [[5, 3,3650]]\n",
    "predictions= model.predict(x_test)\n",
    "\n",
    "print(f'Total Price: { predictions[0]:.2f}')"
   ]
  },
  {
   "cell_type": "markdown",
   "id": "a8ecdd00",
   "metadata": {},
   "source": [
    "## Logistic Regression"
   ]
  },
  {
   "cell_type": "markdown",
   "id": "cec18211",
   "metadata": {},
   "source": [
    "##### 1. Predict student fail or pass by using Study Hours"
   ]
  },
  {
   "cell_type": "code",
   "execution_count": null,
   "id": "83d1ab46",
   "metadata": {},
   "outputs": [],
   "source": [
    "# study hours\n",
    "X= np.array([1,2,3,4,5,6,7,8,9,10,11,12,13,14]).reshape(-1,1)\n",
    "# fail, pass\n",
    "Y= np.array([0,0,0,1,1,0,1,1,0,1,1,0,1,1])\n",
    "\n",
    "model= LogisticRegression()\n",
    "\n",
    "X_train, X_test, Y_train, Y_test= train_test_split(X,Y, random_state=42)\n",
    "\n",
    "# print(X_test)\n",
    "\n",
    "model.fit(X_train,Y_train)\n",
    "\n",
    "studyhour= [[8]]\n",
    "predictions= model.predict(studyhour)\n",
    "\n",
    "# Checking Probability\n",
    "\n",
    "probability= model.predict_proba(studyhour)\n",
    "\n",
    "# probability[:,1]\n",
    "print(f\"{probability[0][1]:.2f}\")\n",
    "# print(\"Preductuion\",predictions)"
   ]
  },
  {
   "cell_type": "code",
   "execution_count": null,
   "id": "f974ffec",
   "metadata": {},
   "outputs": [],
   "source": [
    "## Create Graph for above example\n",
    "\n",
    "x_test= np.linspace(0, 15, 100).reshape(-1,1)\n",
    "y_prob= model.predict_proba(x_test)\n",
    "\n",
    "# print(y_prob[:,1])\n",
    "\n",
    "plt.scatter(X,Y, color='blue')\n",
    "plt.scatter(studyhour, probability[0][1], color='green', marker='o', s=100, label='Prediction')\n",
    "plt.plot(x_test, y_prob[:,1],color='red')\n",
    "\n",
    "#Labels\n",
    "plt.xlabel('Study Hours')\n",
    "plt.ylabel('Pass/Fail')\n",
    "plt.title('Logistic Regression: Study Hours vs Pass/Fail')\n",
    "\n",
    "# Central line\n",
    "plt.axhline(0.5, color='green', linestyle='--', label='Decision Boundary')\n",
    "plt.show()\n",
    "\n",
    "\n"
   ]
  },
  {
   "cell_type": "markdown",
   "id": "d36d4c40",
   "metadata": {},
   "source": [
    "##### 2. Predicting Cancer"
   ]
  },
  {
   "cell_type": "code",
   "execution_count": null,
   "id": "c83e008c",
   "metadata": {},
   "outputs": [],
   "source": [
    "from sklearn.datasets import load_breast_cancer\n",
    "\n",
    "X,Y= load_breast_cancer(return_X_y=True)\n",
    "\n",
    "x_train, x_test, y_train, y_test= train_test_split(X,Y, random_state=42)\n",
    "\n",
    "model = LogisticRegression()\n",
    "model.fit(x_train,y_train)\n",
    "\n",
    "# input= [[0.1, 0.2, 0.3, 0.4, 0.5, 0.6, 0.7, 0.8,0.9, 1.0]]\n",
    "predictions= model.predict(x_test)\n",
    "\n",
    "print(predictions)"
   ]
  },
  {
   "cell_type": "code",
   "execution_count": null,
   "id": "c633b818",
   "metadata": {},
   "outputs": [],
   "source": []
  },
  {
   "cell_type": "markdown",
   "id": "9791dcf0",
   "metadata": {},
   "source": [
    "## Polynomial Regression\n"
   ]
  },
  {
   "cell_type": "code",
   "execution_count": null,
   "id": "d0659060",
   "metadata": {},
   "outputs": [],
   "source": [
    "from sklearn.preprocessing import PolynomialFeatures\n",
    "\n",
    "x = np.array([1,2,3,5,6,7,8,9,10,12,13,14,15,16,18,19,21,22]).reshape(-1,1)\n",
    "y = np.array([100,90,80,60,60,55,60,65,70,70,75,76,78,79,90,99,99,100])\n",
    "\n",
    "poly= PolynomialFeatures(degree=2)\n",
    "\n",
    "x_poly= poly.fit_transform(x)\n",
    "\n",
    "model= LinearRegression()\n",
    "\n",
    "model.fit(x_poly,y)\n",
    "\n",
    "# prediction= model.predict(x_poly)\n",
    "\n",
    "x_test= np.linspace(1, 22, 100).reshape(-1,1)\n",
    "x_test_poly=poly.fit_transform(x_test)\n",
    "# //\n",
    "y_predict= model.predict(x_test_poly)\n",
    "plt.scatter(x,y, color='blue')\n",
    "\n",
    "# predicted line\n",
    "plt.plot(x_test, y_predict, color='red')\n",
    "# print(prediction)\n",
    "# print(x_poly)"
   ]
  },
  {
   "cell_type": "markdown",
   "id": "2ec5ba03",
   "metadata": {},
   "source": [
    "## Decision Tree"
   ]
  },
  {
   "cell_type": "code",
   "execution_count": null,
   "id": "670f7e45",
   "metadata": {},
   "outputs": [],
   "source": [
    "from sklearn import tree\n",
    "\n",
    "X=[[0,1],[1,2]]\n",
    "Y=[0,1]\n",
    "\n",
    "clf=tree.DecisionTreeClassifier()\n",
    "clf= clf.fit(X,Y)\n",
    "clf.predict([[2.,2.]])\n",
    "# // to plot a tree in image \n",
    "tree.plot_tree(clf)"
   ]
  },
  {
   "cell_type": "markdown",
   "id": "0ef4159a",
   "metadata": {},
   "source": [
    "### Example iRis Datset"
   ]
  },
  {
   "cell_type": "code",
   "execution_count": 8,
   "id": "1fae414a",
   "metadata": {},
   "outputs": [
    {
     "ename": "ValueError",
     "evalue": "Unknown label type: continuous-multioutput. Maybe you are trying to fit a classifier, which expects discrete classes on a regression target with continuous values.",
     "output_type": "error",
     "traceback": [
      "\u001b[31m---------------------------------------------------------------------------\u001b[39m",
      "\u001b[31mValueError\u001b[39m                                Traceback (most recent call last)",
      "\u001b[36mCell\u001b[39m\u001b[36m \u001b[39m\u001b[32mIn[8]\u001b[39m\u001b[32m, line 8\u001b[39m\n\u001b[32m      5\u001b[39m model= tree.DecisionTreeClassifier(criterion=\u001b[33m'\u001b[39m\u001b[33mentropy\u001b[39m\u001b[33m'\u001b[39m)\n\u001b[32m      7\u001b[39m x_train,y_train,x_test,y_test= train_test_split(x,y)\n\u001b[32m----> \u001b[39m\u001b[32m8\u001b[39m \u001b[43mmodel\u001b[49m\u001b[43m.\u001b[49m\u001b[43mfit\u001b[49m\u001b[43m(\u001b[49m\u001b[43mx_train\u001b[49m\u001b[43m,\u001b[49m\u001b[43my_train\u001b[49m\u001b[43m)\u001b[49m\n\u001b[32m     10\u001b[39m predict= model.predict(x_test)\n\u001b[32m     12\u001b[39m \u001b[38;5;28mprint\u001b[39m(predict)\n",
      "\u001b[36mFile \u001b[39m\u001b[32md:\\Tech\\Artificial Intelligence\\Python Libraries\\.env\\Lib\\site-packages\\sklearn\\base.py:1389\u001b[39m, in \u001b[36m_fit_context.<locals>.decorator.<locals>.wrapper\u001b[39m\u001b[34m(estimator, *args, **kwargs)\u001b[39m\n\u001b[32m   1382\u001b[39m     estimator._validate_params()\n\u001b[32m   1384\u001b[39m \u001b[38;5;28;01mwith\u001b[39;00m config_context(\n\u001b[32m   1385\u001b[39m     skip_parameter_validation=(\n\u001b[32m   1386\u001b[39m         prefer_skip_nested_validation \u001b[38;5;129;01mor\u001b[39;00m global_skip_validation\n\u001b[32m   1387\u001b[39m     )\n\u001b[32m   1388\u001b[39m ):\n\u001b[32m-> \u001b[39m\u001b[32m1389\u001b[39m     \u001b[38;5;28;01mreturn\u001b[39;00m \u001b[43mfit_method\u001b[49m\u001b[43m(\u001b[49m\u001b[43mestimator\u001b[49m\u001b[43m,\u001b[49m\u001b[43m \u001b[49m\u001b[43m*\u001b[49m\u001b[43margs\u001b[49m\u001b[43m,\u001b[49m\u001b[43m \u001b[49m\u001b[43m*\u001b[49m\u001b[43m*\u001b[49m\u001b[43mkwargs\u001b[49m\u001b[43m)\u001b[49m\n",
      "\u001b[36mFile \u001b[39m\u001b[32md:\\Tech\\Artificial Intelligence\\Python Libraries\\.env\\Lib\\site-packages\\sklearn\\tree\\_classes.py:1024\u001b[39m, in \u001b[36mDecisionTreeClassifier.fit\u001b[39m\u001b[34m(self, X, y, sample_weight, check_input)\u001b[39m\n\u001b[32m    993\u001b[39m \u001b[38;5;129m@_fit_context\u001b[39m(prefer_skip_nested_validation=\u001b[38;5;28;01mTrue\u001b[39;00m)\n\u001b[32m    994\u001b[39m \u001b[38;5;28;01mdef\u001b[39;00m\u001b[38;5;250m \u001b[39m\u001b[34mfit\u001b[39m(\u001b[38;5;28mself\u001b[39m, X, y, sample_weight=\u001b[38;5;28;01mNone\u001b[39;00m, check_input=\u001b[38;5;28;01mTrue\u001b[39;00m):\n\u001b[32m    995\u001b[39m \u001b[38;5;250m    \u001b[39m\u001b[33;03m\"\"\"Build a decision tree classifier from the training set (X, y).\u001b[39;00m\n\u001b[32m    996\u001b[39m \n\u001b[32m    997\u001b[39m \u001b[33;03m    Parameters\u001b[39;00m\n\u001b[32m   (...)\u001b[39m\u001b[32m   1021\u001b[39m \u001b[33;03m        Fitted estimator.\u001b[39;00m\n\u001b[32m   1022\u001b[39m \u001b[33;03m    \"\"\"\u001b[39;00m\n\u001b[32m-> \u001b[39m\u001b[32m1024\u001b[39m     \u001b[38;5;28;43msuper\u001b[39;49m\u001b[43m(\u001b[49m\u001b[43m)\u001b[49m\u001b[43m.\u001b[49m\u001b[43m_fit\u001b[49m\u001b[43m(\u001b[49m\n\u001b[32m   1025\u001b[39m \u001b[43m        \u001b[49m\u001b[43mX\u001b[49m\u001b[43m,\u001b[49m\n\u001b[32m   1026\u001b[39m \u001b[43m        \u001b[49m\u001b[43my\u001b[49m\u001b[43m,\u001b[49m\n\u001b[32m   1027\u001b[39m \u001b[43m        \u001b[49m\u001b[43msample_weight\u001b[49m\u001b[43m=\u001b[49m\u001b[43msample_weight\u001b[49m\u001b[43m,\u001b[49m\n\u001b[32m   1028\u001b[39m \u001b[43m        \u001b[49m\u001b[43mcheck_input\u001b[49m\u001b[43m=\u001b[49m\u001b[43mcheck_input\u001b[49m\u001b[43m,\u001b[49m\n\u001b[32m   1029\u001b[39m \u001b[43m    \u001b[49m\u001b[43m)\u001b[49m\n\u001b[32m   1030\u001b[39m     \u001b[38;5;28;01mreturn\u001b[39;00m \u001b[38;5;28mself\u001b[39m\n",
      "\u001b[36mFile \u001b[39m\u001b[32md:\\Tech\\Artificial Intelligence\\Python Libraries\\.env\\Lib\\site-packages\\sklearn\\tree\\_classes.py:294\u001b[39m, in \u001b[36mBaseDecisionTree._fit\u001b[39m\u001b[34m(self, X, y, sample_weight, check_input, missing_values_in_feature_mask)\u001b[39m\n\u001b[32m    291\u001b[39m \u001b[38;5;28mself\u001b[39m.n_outputs_ = y.shape[\u001b[32m1\u001b[39m]\n\u001b[32m    293\u001b[39m \u001b[38;5;28;01mif\u001b[39;00m is_classification:\n\u001b[32m--> \u001b[39m\u001b[32m294\u001b[39m     \u001b[43mcheck_classification_targets\u001b[49m\u001b[43m(\u001b[49m\u001b[43my\u001b[49m\u001b[43m)\u001b[49m\n\u001b[32m    295\u001b[39m     y = np.copy(y)\n\u001b[32m    297\u001b[39m     \u001b[38;5;28mself\u001b[39m.classes_ = []\n",
      "\u001b[36mFile \u001b[39m\u001b[32md:\\Tech\\Artificial Intelligence\\Python Libraries\\.env\\Lib\\site-packages\\sklearn\\utils\\multiclass.py:222\u001b[39m, in \u001b[36mcheck_classification_targets\u001b[39m\u001b[34m(y)\u001b[39m\n\u001b[32m    214\u001b[39m y_type = type_of_target(y, input_name=\u001b[33m\"\u001b[39m\u001b[33my\u001b[39m\u001b[33m\"\u001b[39m)\n\u001b[32m    215\u001b[39m \u001b[38;5;28;01mif\u001b[39;00m y_type \u001b[38;5;129;01mnot\u001b[39;00m \u001b[38;5;129;01min\u001b[39;00m [\n\u001b[32m    216\u001b[39m     \u001b[33m\"\u001b[39m\u001b[33mbinary\u001b[39m\u001b[33m\"\u001b[39m,\n\u001b[32m    217\u001b[39m     \u001b[33m\"\u001b[39m\u001b[33mmulticlass\u001b[39m\u001b[33m\"\u001b[39m,\n\u001b[32m   (...)\u001b[39m\u001b[32m    220\u001b[39m     \u001b[33m\"\u001b[39m\u001b[33mmultilabel-sequences\u001b[39m\u001b[33m\"\u001b[39m,\n\u001b[32m    221\u001b[39m ]:\n\u001b[32m--> \u001b[39m\u001b[32m222\u001b[39m     \u001b[38;5;28;01mraise\u001b[39;00m \u001b[38;5;167;01mValueError\u001b[39;00m(\n\u001b[32m    223\u001b[39m         \u001b[33mf\u001b[39m\u001b[33m\"\u001b[39m\u001b[33mUnknown label type: \u001b[39m\u001b[38;5;132;01m{\u001b[39;00my_type\u001b[38;5;132;01m}\u001b[39;00m\u001b[33m. Maybe you are trying to fit a \u001b[39m\u001b[33m\"\u001b[39m\n\u001b[32m    224\u001b[39m         \u001b[33m\"\u001b[39m\u001b[33mclassifier, which expects discrete classes on a \u001b[39m\u001b[33m\"\u001b[39m\n\u001b[32m    225\u001b[39m         \u001b[33m\"\u001b[39m\u001b[33mregression target with continuous values.\u001b[39m\u001b[33m\"\u001b[39m\n\u001b[32m    226\u001b[39m     )\n",
      "\u001b[31mValueError\u001b[39m: Unknown label type: continuous-multioutput. Maybe you are trying to fit a classifier, which expects discrete classes on a regression target with continuous values."
     ]
    }
   ],
   "source": [
    "from sklearn.datasets import load_iris\n",
    "x= load_iris().data\n",
    "y= load_iris().target\n",
    "# print(y)\n",
    "model= tree.DecisionTreeClassifier(criterion='entropy')\n",
    "\n",
    "x_train,y_train,x_test,y_test= train_test_split(x,y)\n",
    "model.fit(x_train,y_train)\n",
    "\n",
    "predict= model.predict(x_test)\n",
    "\n",
    "print(predict)"
   ]
  }
 ],
 "metadata": {
  "kernelspec": {
   "display_name": ".env",
   "language": "python",
   "name": "python3"
  },
  "language_info": {
   "codemirror_mode": {
    "name": "ipython",
    "version": 3
   },
   "file_extension": ".py",
   "mimetype": "text/x-python",
   "name": "python",
   "nbconvert_exporter": "python",
   "pygments_lexer": "ipython3",
   "version": "3.11.2"
  }
 },
 "nbformat": 4,
 "nbformat_minor": 5
}
