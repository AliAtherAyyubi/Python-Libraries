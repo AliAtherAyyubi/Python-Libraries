{
 "cells": [
  {
   "cell_type": "markdown",
   "id": "0c78fac8",
   "metadata": {},
   "source": [
    "## Machine Learning with Scikit Learn\n"
   ]
  },
  {
   "cell_type": "code",
   "execution_count": null,
   "id": "3316d428",
   "metadata": {},
   "outputs": [],
   "source": [
    "import pandas as pd\n",
    "import numpy as np\n",
    "import matplotlib.pyplot as plt\n",
    "from sklearn.model_selection import train_test_split\n",
    "from sklearn.linear_model import LinearRegression\n",
    "from sklearn.linear_model import LogisticRegression"
   ]
  },
  {
   "cell_type": "markdown",
   "id": "571c7dce",
   "metadata": {},
   "source": [
    "### House Price Prediction Model"
   ]
  },
  {
   "cell_type": "code",
   "execution_count": null,
   "id": "88f9b76e",
   "metadata": {},
   "outputs": [],
   "source": [
    "data= pd.read_csv('../CSV/housing.csv')\n",
    "\n",
    "features= ['bedrooms','bathrooms','sqft_living']\n",
    "target= 'price'\n",
    "\n",
    "X= data[features]\n",
    "Y= data[target].astype(int)\n",
    "\n",
    "X_train, X_test, Y_train, Y_test= train_test_split(X,Y)\n",
    "\n",
    "model= LinearRegression()\n",
    "model.fit(X_train,Y_train)\n",
    "\n",
    "input= [[5, 3,3650]]\n",
    "predictions= model.predict(input)\n",
    "# predictions= model.predict(X_test)\n",
    "\n",
    "print(f'Total Price: { predictions[0]:.2f}')\n"
   ]
  },
  {
   "cell_type": "markdown",
   "id": "b8c24a29",
   "metadata": {},
   "source": [
    "### Model to predict Population for a country"
   ]
  },
  {
   "cell_type": "code",
   "execution_count": null,
   "id": "7a07397d",
   "metadata": {},
   "outputs": [],
   "source": [
    "# wp= pd.read_csv('../CSV/world_population.csv')\n",
    "data = {\n",
    "    'Year': [2022, 2020,2015, 2010, 2000, 1990, 1980,1970],\n",
    "    'Population': [1417173173,1396387127,1322866505,1240613620,1059633675,870452165,696828385,557501301]  # Example: India\n",
    "}\n",
    "\n",
    "data = pd.DataFrame(data)\n",
    "\n",
    "X= data[['Year']]\n",
    "Y= data['Population']\n",
    "\n",
    "X_train, X_test, Y_train, Y_test= train_test_split(X,Y)\n",
    "\n",
    "model= LinearRegression()\n",
    "model.fit(X_train,Y_train)\n",
    "\n",
    "input= [[2025]]\n",
    "predictions= model.predict(input)\n",
    "\n",
    "# print(predictions)\n",
    "print(f'Population: { predictions[0]:.0f}')\n",
    "\n"
   ]
  },
  {
   "cell_type": "markdown",
   "id": "8ce0df2d",
   "metadata": {},
   "source": [
    "### Datasets in sklearn"
   ]
  },
  {
   "cell_type": "code",
   "execution_count": null,
   "id": "bb1c7a7c",
   "metadata": {},
   "outputs": [],
   "source": [
    "from sklearn.datasets import load_digits\n",
    "\n",
    "X,Y= load_digits(return_X_y=True)\n",
    "\n",
    "print(X,Y)"
   ]
  },
  {
   "cell_type": "code",
   "execution_count": null,
   "id": "c1ff247c",
   "metadata": {},
   "outputs": [],
   "source": [
    "# 1. Linear Regression(Single Regression, Multiple Regression)\n",
    "# 2. Logistic Regression (Binary Classification, Multi-class Classification, ) "
   ]
  },
  {
   "cell_type": "markdown",
   "id": "22ca3759",
   "metadata": {},
   "source": [
    "### Logistic Regression Example"
   ]
  },
  {
   "cell_type": "markdown",
   "id": "ec09ffc6",
   "metadata": {},
   "source": [
    "##### 1. Predict student fail or pass by using Study Hours"
   ]
  },
  {
   "cell_type": "code",
   "execution_count": null,
   "id": "23e1c50a",
   "metadata": {},
   "outputs": [],
   "source": [
    "# study hours\n",
    "X= np.array([1,2,3,4,5,6,7,8,9,10,11,12,13,14]).reshape(-1,1)\n",
    "# fail, pass\n",
    "Y= np.array([0,0,0,1,1,0,1,1,0,1,1,0,1,1])\n",
    "\n",
    "model= LogisticRegression()\n",
    "\n",
    "X_train, X_test, Y_train, Y_test= train_test_split(X,Y, random_state=42)\n",
    "\n",
    "# print(X_test)\n",
    "\n",
    "model.fit(X_train,Y_train)\n",
    "\n",
    "studyhour= [[8]]\n",
    "predictions= model.predict(studyhour)\n",
    "\n",
    "# Checking Probability\n",
    "\n",
    "probability= model.predict_proba(studyhour)\n",
    "\n",
    "# probability[:,1]\n",
    "print(f\"{probability[0][1]:.2f}\")\n",
    "# print(\"Preductuion\",predictions)"
   ]
  },
  {
   "cell_type": "code",
   "execution_count": null,
   "id": "6cfb9a0c",
   "metadata": {},
   "outputs": [],
   "source": [
    "## Create Graph for above example\n",
    "\n",
    "x_test= np.linspace(0, 15, 100).reshape(-1,1)\n",
    "y_prob= model.predict_proba(x_test)\n",
    "\n",
    "# print(y_prob[:,1])\n",
    "\n",
    "plt.scatter(X,Y, color='blue')\n",
    "plt.scatter(studyhour, probability[0][1], color='green', marker='o', s=100, label='Prediction')\n",
    "plt.plot(x_test, y_prob[:,1],color='red')\n",
    "\n",
    "#Labels\n",
    "plt.xlabel('Study Hours')\n",
    "plt.ylabel('Pass/Fail')\n",
    "plt.title('Logistic Regression: Study Hours vs Pass/Fail')\n",
    "\n",
    "# Central line\n",
    "plt.axhline(0.5, color='green', linestyle='--', label='Decision Boundary')\n",
    "plt.show()\n",
    "\n",
    "\n"
   ]
  },
  {
   "cell_type": "markdown",
   "id": "c43f53bd",
   "metadata": {},
   "source": [
    "##### 2. Predicting Cancer"
   ]
  },
  {
   "cell_type": "code",
   "execution_count": null,
   "id": "d7312c63",
   "metadata": {},
   "outputs": [],
   "source": [
    "from sklearn.datasets import load_breast_cancer\n",
    "\n",
    "X,Y= load_breast_cancer(return_X_y=True)\n",
    "\n",
    "x_train, x_test, y_train, y_test= train_test_split(X,Y, random_state=42)\n",
    "\n",
    "model = LogisticRegression()\n",
    "model.fit(x_train,y_train)\n",
    "\n",
    "# input= [[0.1, 0.2, 0.3, 0.4, 0.5, 0.6, 0.7, 0.8,0.9, 1.0]]\n",
    "predictions= model.predict(x_test)\n",
    "\n",
    "print(predictions)"
   ]
  },
  {
   "cell_type": "code",
   "execution_count": null,
   "id": "3f80a2dd",
   "metadata": {},
   "outputs": [],
   "source": []
  }
 ],
 "metadata": {
  "kernelspec": {
   "display_name": ".env",
   "language": "python",
   "name": "python3"
  },
  "language_info": {
   "codemirror_mode": {
    "name": "ipython",
    "version": 3
   },
   "file_extension": ".py",
   "mimetype": "text/x-python",
   "name": "python",
   "nbconvert_exporter": "python",
   "pygments_lexer": "ipython3",
   "version": "3.11.2"
  }
 },
 "nbformat": 4,
 "nbformat_minor": 5
}
