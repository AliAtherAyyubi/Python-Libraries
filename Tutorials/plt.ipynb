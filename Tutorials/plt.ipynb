{
 "cells": [
  {
   "cell_type": "code",
   "execution_count": null,
   "id": "23521ac4",
   "metadata": {},
   "outputs": [],
   "source": [
    "import matplotlib.pyplot as plt\n",
    "import numpy as np\n",
    "import pandas as pd"
   ]
  },
  {
   "cell_type": "code",
   "execution_count": null,
   "id": "361da7b7",
   "metadata": {},
   "outputs": [],
   "source": [
    "x= np.array([1,2,3,4,5,6,7])\n",
    "y=np.array([2,5,6,8,2,4,7])\n",
    "z=np.array([1,2,4,7])\n",
    "\n",
    "graph= plt.plot(x,y,z,marker='*',ms=20, mec='b', mfc='yellow')\n",
    "# y=np.array([1,2,3,4,7])\n",
    "# graph2= plt.plot(y, marker='o')\n",
    "\n",
    "plt.title('Sample')\n",
    "\n",
    "# plt.savefig('graph.jpg')\n",
    "#upscaler \n",
    "# plt.show(graph)"
   ]
  },
  {
   "cell_type": "code",
   "execution_count": null,
   "id": "37cfb0cd",
   "metadata": {},
   "outputs": [],
   "source": [
    "\n",
    "country= ['USA','UK','Germany','ALG']\n",
    "rank=np.array([1,5,3,4])\n",
    "\n",
    "plt.bar(country,rank,)\n",
    "\n",
    "plt.show()\n"
   ]
  },
  {
   "cell_type": "code",
   "execution_count": null,
   "id": "000e336a",
   "metadata": {},
   "outputs": [],
   "source": [
    "# bar in horizontal\n",
    "languages= ['Javascript','Python','Node','React','C++']\n",
    "rank=np.array([5,4,3,2,1])\n",
    "\n",
    "z=np.array([1,5,3,4,9])\n",
    "plt.barh(languages,rank)\n",
    "# plt.barh(rank,z)/\n",
    "\n",
    "plt.show()"
   ]
  },
  {
   "cell_type": "code",
   "execution_count": null,
   "id": "180d8fee",
   "metadata": {},
   "outputs": [],
   "source": [
    "\n",
    "y= np.array([1,2,3,4,5])\n",
    "z= np.array([4,5,3,4,9])\n",
    "\n",
    "width= 0.2\n",
    "p = np.arange(len(languages))\n",
    "p1= [i+width for i in p]\n",
    "\n",
    "plt.bar(languages,y, width,color='b' )\n",
    "plt.bar(p1,z, width,color='r' )\n",
    "\n",
    "plt.xticks([i+width/2 for i in range(len(languages))], languages)\n",
    "\n",
    "plt.legend(['y','z'])\n",
    "plt.show()"
   ]
  },
  {
   "cell_type": "code",
   "execution_count": null,
   "id": "3af84bc1",
   "metadata": {},
   "outputs": [],
   "source": [
    "languages= ['Javascript','Python','Node','React','C++']\n",
    "\n",
    "# Data for 4 groups\n",
    "y = np.array([1, 2, 3, 4, 5])\n",
    "z = np.array([4, 5, 3, 4, 9])\n",
    "a = np.array([3, 6, 3, 1, 9])\n",
    "b = np.array([0, 5, 7, 1, 3])\n",
    "\n",
    "# Bar width and positions\n",
    "width = 0.2\n",
    "x = np.arange(len(languages))  # base positions\n",
    "\n",
    "# Plot 4 bars side by side\n",
    "plt.bar(x, y, width, label='y', color='b')\n",
    "plt.bar(x + width, z, width, label='z', color='r')\n",
    "plt.bar(x + 2*width, a, width, label='a', color='g')\n",
    "plt.bar(x + 3*width, b, width, label='b', color='purple')\n",
    "\n",
    "# Center x-axis labels under grouped bars\n",
    "plt.xticks(x + 1.5*width, languages)\n",
    "\n",
    "# Add legend and title\n",
    "plt.xlabel(\"Languages\")\n",
    "plt.ylabel(\"Values\")\n",
    "plt.title(\"Grouped Bar Chart with 4 Bars\")\n",
    "plt.legend()\n",
    "\n",
    "# Show the plot\n",
    "plt.show()"
   ]
  },
  {
   "cell_type": "code",
   "execution_count": null,
   "id": "a86695f7",
   "metadata": {},
   "outputs": [],
   "source": [
    "xLabels= ['USA','UK','Germany']\n",
    "\n",
    "arr= {\n",
    "    'x': [1,2,3,],\n",
    "    'y': [2,5,6],\n",
    "    # 'z': [1,2,4]\n",
    "}\n",
    "\n",
    "fig,ax= plt.subplots()\n",
    "bottom= np.zeros(3)\n",
    "# for r,c in arr.items():\n",
    "#     print(c)\n",
    "width=0.6\n",
    "for r,c in arr.items():\n",
    "    p=ax.bar(xLabels,c, label=r,width=width ,bottom=bottom)\n",
    "    bottom+=c\n",
    "\n",
    "    ax.bar_label(p, label_type='center',)\n",
    "plt.legend()\n",
    "\n",
    "plt.show()"
   ]
  },
  {
   "cell_type": "code",
   "execution_count": null,
   "id": "951bc9f4",
   "metadata": {},
   "outputs": [],
   "source": [
    "# Assignment\n",
    "\n",
    "data= pd.read_csv('../CSV/world_population.csv', nrows= 50)\n",
    "\n",
    "# print(data.columns)\n",
    "# rows= data.head(2)\n",
    "rank= data['Rank']\n",
    "country= data['CCA3']\n",
    "# population= data['2022 Population']\n",
    "# wpp= data['World Population Percentage']\n",
    "plt.figure(figsize=(15, 20))\n",
    "bar_colors = ['tab:red', 'tab:blue', 'tab:pink', 'tab:orange']\n",
    "# labels\n",
    "# plt.ylabel('Rank',fontsize=20)\n",
    "# plt.xlabel('Country',fontsize=20)\n",
    "plt.title('World Population')\n",
    "plt.xticks(rotation=45)\n",
    "\n",
    "# \n",
    "\n",
    "# plt.bar(country,rank, color=bar_colors)\n",
    "plt.barh(country,rank, color=bar_colors)\n",
    "# plt.tight_layout()\n",
    "plt.show()"
   ]
  },
  {
   "cell_type": "code",
   "execution_count": null,
   "id": "1b4f7694",
   "metadata": {},
   "outputs": [],
   "source": [
    "# Scatter Graph\n",
    "# Univariate = 1 variable\n",
    "# Bivariate = 2 variable\n",
    "# Multivariate = More than 2 variable\n",
    "x=['Python','Java','C++','JavaScript','PHP','Ruby','Swift']\n",
    "y= np.array([1,0,3,5,6,6,7])\n",
    "z= np.array([4,5,4,7,6,9,7])\n",
    "z1= np.array([7,6,4,6,5,3,2])\n",
    "plt.scatter(x,y, marker='o',s=190, c='red', )\n",
    "\n",
    "plt.scatter(x,z, marker='o',s=50, c='blue', )\n",
    "plt.scatter(x,z1, marker='o',s=50, c='green', )\n",
    "plt.show()"
   ]
  },
  {
   "cell_type": "code",
   "execution_count": null,
   "id": "10bd2a6e",
   "metadata": {},
   "outputs": [],
   "source": [
    "# Trend of Programming Languages\n",
    "\n",
    "languages= ['Python','Java','C++','JavaScript','PHP','Ruby','Swift']\n",
    "percentage= np.array([12.3,5.5,3.2,5.6,7.8,9.0,10.1])\n",
    "fig, ax= plt.subplots()\n",
    "\n",
    "y_pos= np.arange(len(languages))\n",
    "\n",
    "bars= ax.barh(y_pos,percentage)\n",
    "# labels\n",
    "ax.set_yticks(y_pos)\n",
    "ax.set_yticklabels(languages)\n",
    "ax.bar_label(bars,fmt='%.1f%%')\n",
    "ax.invert_yaxis()\n",
    "ax.set_xticks([])\n",
    "# ax.set_xlabel(0)\n",
    "plt.tight_layout()\n",
    "plt.show()"
   ]
  },
  {
   "cell_type": "code",
   "execution_count": null,
   "id": "e1dab499",
   "metadata": {},
   "outputs": [],
   "source": [
    "# Linear plot\n",
    "# Bar plot\n",
    "# Stem plot\n",
    "# Step plot\n",
    "# Hist plot\n",
    "# Box plot\n",
    "# Pie plot"
   ]
  },
  {
   "cell_type": "code",
   "execution_count": null,
   "id": "2fa24ede",
   "metadata": {},
   "outputs": [],
   "source": [
    "# Stem Plot\n",
    "\n",
    "x= np.array([1,2,3,4,5,6,7])\n",
    "y= np.array([2,5,6,8,2,4,7])\n",
    "\n",
    "plt.stem(x,y, markerfmt='ro', linefmt='b-')\n",
    "plt.grid()\n",
    "plt.show()"
   ]
  },
  {
   "cell_type": "code",
   "execution_count": null,
   "id": "ef8f25a3",
   "metadata": {},
   "outputs": [],
   "source": [
    "# Histogram plot\n",
    "\n",
    "x= np.array([1,2,3,4,5,6,7])\n",
    "y= np.random.randn(100)\n",
    "\n",
    "plt.hist(x, color='blue', edgecolor='black')"
   ]
  },
  {
   "cell_type": "code",
   "execution_count": null,
   "id": "eb8a3a14",
   "metadata": {},
   "outputs": [],
   "source": [
    "# BoxPlot\n",
    "\n",
    "x= np.array([1,2,3,4,5,6,7])\n",
    "\n",
    "plt.boxplot(x)"
   ]
  },
  {
   "cell_type": "code",
   "execution_count": 97,
   "id": "3bad4d21",
   "metadata": {},
   "outputs": [
    {
     "data": {
      "image/png": "[encoded data removed]",
      "text/plain": [
       "<Figure size 640x480 with 1 Axes>"
      ]
     },
     "metadata": {},
     "output_type": "display_data"
    }
   ],
   "source": [
    "# Pie plot\n",
    "\n",
    "languages= ['Python','Java','C++','JavaScript','PHP','Ruby','Swift']\n",
    "percentage= np.array([12.3,5.5,3.2,5.6,7.8,9.0,10.1])\n",
    "\n",
    "normalize= percentage / percentage.sum()\n",
    "\n",
    "plt.pie(normalize, labels=languages, autopct=lambda p: f'{p * percentage.sum() / 100:.1f}%', startangle=140)\n",
    "plt.show()"
   ]
  }
 ],
 "metadata": {
  "kernelspec": {
   "display_name": ".env",
   "language": "python",
   "name": "python3"
  },
  "language_info": {
   "codemirror_mode": {
    "name": "ipython",
    "version": 3
   },
   "file_extension": ".py",
   "mimetype": "text/x-python",
   "name": "python",
   "nbconvert_exporter": "python",
   "pygments_lexer": "ipython3",
   "version": "3.11.2"
  }
 },
 "nbformat": 4,
 "nbformat_minor": 5
}
