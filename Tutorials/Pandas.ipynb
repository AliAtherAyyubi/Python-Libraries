{
 "cells": [
  {
   "cell_type": "code",
   "execution_count": 1,
   "id": "ee649719",
   "metadata": {},
   "outputs": [
    {
     "ename": "ModuleNotFoundError",
     "evalue": "No module named 'numpy'",
     "output_type": "error",
     "traceback": [
      "\u001b[31m---------------------------------------------------------------------------\u001b[39m",
      "\u001b[31mModuleNotFoundError\u001b[39m                       Traceback (most recent call last)",
      "\u001b[36mCell\u001b[39m\u001b[36m \u001b[39m\u001b[32mIn[1]\u001b[39m\u001b[32m, line 3\u001b[39m\n\u001b[32m      1\u001b[39m \u001b[38;5;66;03m# pandas: excel, csv, dataframe (rows,columns)\u001b[39;00m\n\u001b[32m----> \u001b[39m\u001b[32m3\u001b[39m \u001b[38;5;28;01mimport\u001b[39;00m\u001b[38;5;250m \u001b[39m\u001b[34;01mnumpy\u001b[39;00m\u001b[38;5;250m \u001b[39m\u001b[38;5;28;01mas\u001b[39;00m\u001b[38;5;250m \u001b[39m\u001b[34;01mnp\u001b[39;00m\n\u001b[32m      4\u001b[39m \u001b[38;5;28;01mimport\u001b[39;00m\u001b[38;5;250m \u001b[39m\u001b[34;01mpandas\u001b[39;00m\u001b[38;5;250m \u001b[39m\u001b[38;5;28;01mas\u001b[39;00m\u001b[38;5;250m \u001b[39m\u001b[34;01mpd\u001b[39;00m\n\u001b[32m      5\u001b[39m \u001b[38;5;28;01mimport\u001b[39;00m\u001b[38;5;250m \u001b[39m\u001b[34;01mmatplotlib\u001b[39;00m\u001b[38;5;250m \u001b[39m\u001b[38;5;28;01mas\u001b[39;00m\u001b[38;5;250m \u001b[39m\u001b[34;01mplt\u001b[39;00m\n",
      "\u001b[31mModuleNotFoundError\u001b[39m: No module named 'numpy'"
     ]
    }
   ],
   "source": [
    "# pandas: excel, csv, dataframe (rows,columns)\n",
    "\n",
    "import numpy as np\n",
    "import pandas as pd\n",
    "import matplotlib as plt"
   ]
  },
  {
   "cell_type": "code",
   "execution_count": null,
   "id": "2aee05c7",
   "metadata": {},
   "outputs": [],
   "source": [
    "arr= np.array(['hello','world','Pakistan'])\n",
    "\n",
    "#Data frame used to handle multiple dimensions\n",
    "df= pd.DataFrame(arr)\n",
    "\n",
    "print(df)"
   ]
  },
  {
   "cell_type": "code",
   "execution_count": null,
   "id": "3d3f2c5d",
   "metadata": {},
   "outputs": [],
   "source": [
    "# converting map into rows and col/ Dataframes\n",
    "arr1= {\n",
    "    'name':['ali','ahmed','iqbal','arsahd'],\n",
    "    'age':[12,22,44,11],\n",
    "    'height':[5.5,5,9,11],\n",
    "}\n",
    "\n",
    "df= pd.DataFrame(arr1)\n",
    "\n",
    "# print(df)\n",
    "# print(df['name'])\n",
    "# print(df['age'].max())\n",
    "# df.head(2)\n",
    "df.tail(1)"
   ]
  },
  {
   "cell_type": "code",
   "execution_count": null,
   "id": "e2613dce",
   "metadata": {},
   "outputs": [],
   "source": [
    "df= pd.DataFrame(arr1, index=['one','two','three','four'])\n",
    "\n",
    "print(df)"
   ]
  },
  {
   "cell_type": "code",
   "execution_count": null,
   "id": "1b84d29d",
   "metadata": {},
   "outputs": [],
   "source": [
    "arr1= np.array([1,2,3,4])\n",
    "df= pd.Series(arr1)\n",
    "\n",
    "print(df)"
   ]
  },
  {
   "cell_type": "code",
   "execution_count": null,
   "id": "81a9aaf3",
   "metadata": {},
   "outputs": [],
   "source": [
    "data= {\n",
    "    'name':['ali','ahmed','iqbal','arsahd'],\n",
    "    'age':[12,22,44,11],\n",
    "    'height':[5.5,5,9,11],\n",
    "    'weight':[50,60,70,80],\n",
    "}\n",
    "\n",
    "df= pd.DataFrame(data)\n",
    "# creating csv file\n",
    "df.to_csv('../CSV/mycsv.csv',index=False)\n",
    "\n",
    "# df.to_html('../CSV/myhtml.html',index=False)"
   ]
  },
  {
   "cell_type": "code",
   "execution_count": null,
   "id": "dbedad20",
   "metadata": {},
   "outputs": [],
   "source": [
    "df.describe() # gives the summary of the data\n",
    "# df.info()\n",
    "\n",
    "# changing data of csv file\n",
    "mycsv= pd.read_csv('../CSV/mycsv.csv',)\n",
    "\n",
    "# mycsv['age']= mycsv['age']+1\n",
    "\n",
    "# changing column all names\n",
    "mycsv.columns= ['name','TeenAge','BMI','weight']\n",
    "\n",
    "# Changing one column name\n",
    "mycsv.rename(columns={'TeenAge':'Age'}, inplace=True)\n",
    "# mycsv['name']= mycsv['name'].str.title()\n",
    "\n",
    "# delete a specific row\n",
    "mycsv = mycsv.drop(index=2)\n",
    "\n",
    "# delete all rows\n",
    "mycsv= mycsv[0:0]\n",
    "# delete a specific column\n",
    "# mycsv.drop(columns=['TeenAge'], inplace=True)\n",
    "\n",
    "#create csv file\n",
    "# mycsv.to_csv('../CSV/mycsv.csv',index=False)\n",
    "\n",
    "print(mycsv)"
   ]
  },
  {
   "cell_type": "code",
   "execution_count": null,
   "id": "eb6858f2",
   "metadata": {},
   "outputs": [],
   "source": [
    "# Reading CSV file\n",
    "\n",
    "df= pd.read_csv('../CSV/world_population.csv', index_col=0,nrows=10, usecols=[0,1,2,5,7])\n",
    "print(df)\n",
    "rows,col= df.shape\n",
    "print(f\"Rows: {rows}, Columns: {col}\")\n",
    "\n",
    "df['2015 Population'].dtype\n",
    "df['2015 Population']= df['2015 Population'].astype('string')\n",
    "print(df['2015 Population'].dtype)\n",
    "\n"
   ]
  },
  {
   "cell_type": "code",
   "execution_count": null,
   "id": "b4133078",
   "metadata": {},
   "outputs": [],
   "source": [
    "# Getting Rows and columns\n",
    "df= pd.read_csv('../CSV/world_population.csv',nrows=10)\n",
    "\n",
    "row= df.loc[1].values\n",
    "# print(df.iloc[[1]])\n",
    "\n",
    "row= df['CCA3'][2]\n",
    "row= df.loc[1]\n",
    "# print(row)\n",
    "df['1970 Population'].loc[0]\n",
    "\n",
    "# Changing a specific value in a row\n",
    "df.loc[0,'CCA3']='Pak'\n",
    "\n",
    "# getting column values on condition\n",
    "col= df[df['2022 Population']>2850000]\n",
    "\n",
    "# df['CCA3'][0]='ALG'\n",
    "# Getting row value\n",
    "df.iat[5,2]\n",
    "\n",
    "# print(col)\n"
   ]
  },
  {
   "cell_type": "code",
   "execution_count": null,
   "id": "ff9d083c",
   "metadata": {},
   "outputs": [],
   "source": [
    "mycsv= pd.read_csv('../CSV/mycsv.csv',)\n",
    "\n",
    "#insert new column\n",
    "# mycsv['marks']= [1,2,3,4]\n",
    "\n",
    "# insert new row or update\n",
    "\n",
    "mycsv.loc[0]= ['Ali', 23, 5.7, 50, 2.8,2,5]\n",
    "\n",
    "# insert new column at specific position\n",
    "# mycsv.insert(2,'new_col', [1,2,3,4,5])\n",
    "\n",
    "# mycsv.to_csv('../CSV/mycsv.csv')\n",
    "print(mycsv)"
   ]
  },
  {
   "cell_type": "code",
   "execution_count": null,
   "id": "77d0db10",
   "metadata": {},
   "outputs": [],
   "source": [
    "arr= pd.DataFrame({\n",
    "    'age':[12,22,44,11],\n",
    "})\n",
    "\n",
    "arr['age'].mean()"
   ]
  },
  {
   "cell_type": "code",
   "execution_count": null,
   "id": "d75d6114",
   "metadata": {},
   "outputs": [],
   "source": [
    "# Converting files\n",
    "\n",
    "df= pd.read_csv('../CSV/world_population.csv', usecols=['2022 Population'])\n",
    "\n",
    "print(df)\n",
    "# df.to_json('../CSV/world_population.json')\n",
    "# df.to_html('../CSV/world_population.html')"
   ]
  },
  {
   "cell_type": "code",
   "execution_count": null,
   "id": "75655d47",
   "metadata": {},
   "outputs": [],
   "source": [
    "# Check country have highest population\n",
    "\n",
    "wp= pd.read_csv('../CSV/world_population.csv')\n",
    "\n",
    "rowIndex= wp['2022 Population'].idxmin()\n",
    "\n",
    "country= wp['Country/Territory'][rowIndex]\n",
    "\n",
    "print(country)"
   ]
  },
  {
   "cell_type": "code",
   "execution_count": null,
   "id": "db55546c",
   "metadata": {},
   "outputs": [],
   "source": [
    "print(wp.iat[1,3])\n",
    "\n",
    "wp[['Country/Territory','Capital','Continent']]\n",
    "\n",
    "\n",
    "mostRanked= wp.sort_values(by='2022 Population', ascending=True)\n",
    "# mostRanked[['Country/Territory','2022 Population']].head(10)\n"
   ]
  },
  {
   "cell_type": "code",
   "execution_count": null,
   "id": "97aa4c75",
   "metadata": {},
   "outputs": [],
   "source": []
  },
  {
   "cell_type": "code",
   "execution_count": null,
   "id": "d66928ba",
   "metadata": {},
   "outputs": [],
   "source": []
  },
  {
   "cell_type": "code",
   "execution_count": null,
   "id": "866db00a",
   "metadata": {},
   "outputs": [],
   "source": []
  },
  {
   "cell_type": "code",
   "execution_count": null,
   "id": "a5f7f3a1",
   "metadata": {},
   "outputs": [],
   "source": []
  }
 ],
 "metadata": {
  "kernelspec": {
   "display_name": "Python 3",
   "language": "python",
   "name": "python3"
  },
  "language_info": {
   "codemirror_mode": {
    "name": "ipython",
    "version": 3
   },
   "file_extension": ".py",
   "mimetype": "text/x-python",
   "name": "python",
   "nbconvert_exporter": "python",
   "pygments_lexer": "ipython3",
   "version": "3.11.2"
  }
 },
 "nbformat": 4,
 "nbformat_minor": 5
}
